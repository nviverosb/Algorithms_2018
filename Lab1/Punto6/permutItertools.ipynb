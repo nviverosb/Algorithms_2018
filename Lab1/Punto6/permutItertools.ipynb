{
 "cells": [
  {
   "cell_type": "markdown",
   "metadata": {},
   "source": [
    "# Insertion sort over all permutations of array (Itertools)"
   ]
  },
  {
   "cell_type": "code",
   "execution_count": 3,
   "metadata": {
    "collapsed": true
   },
   "outputs": [],
   "source": [
    "#First, let's import libraries"
   ]
  },
  {
   "cell_type": "code",
   "execution_count": 4,
   "metadata": {
    "collapsed": true
   },
   "outputs": [],
   "source": [
    "import itertools\n",
    "import random\n",
    "import time\n",
    "import matplotlib.pyplot as plt"
   ]
  },
  {
   "cell_type": "code",
   "execution_count": 5,
   "metadata": {
    "collapsed": true
   },
   "outputs": [],
   "source": [
    "#Define random permutations function\n",
    "def randPermutation(n):\n",
    "    arr = []\n",
    "    for i in range(n):\n",
    "        arr.append([])\n",
    "        arr[i] = i+1\n",
    "    for i in range(n-1):\n",
    "        x = random.randint(i, n-1)\n",
    "        temp = arr[i]\n",
    "        arr[i] = arr[x]\n",
    "        arr[x] = temp\n",
    "    return arr"
   ]
  },
  {
   "cell_type": "code",
   "execution_count": 6,
   "metadata": {
    "collapsed": true
   },
   "outputs": [],
   "source": [
    "#Function that allows us to calculate the number of instructions\n",
    "def numInstructions(x):\n",
    "    arr = []\n",
    "    for i in range(len(x)):\n",
    "        arr.append([])\n",
    "        arr[i] = x[i]\n",
    "\n",
    "    instructions = 0\n",
    "    for i in range(1, len(arr)):\n",
    "        x = arr[i]\n",
    "        j = i - 1\n",
    "        while (j > -1) and (arr[j] > x):\n",
    "            arr[j + 1] = arr[j]\n",
    "            j = j - 1\n",
    "            instructions += 3\n",
    "        instructions += 1\n",
    "        arr[j + 1] = x\n",
    "        instructions += 4\n",
    "    instructions += 1\n",
    "    return instructions"
   ]
  },
  {
   "cell_type": "code",
   "execution_count": 17,
   "metadata": {
    "collapsed": false
   },
   "outputs": [],
   "source": [
    "n = 7\n",
    "arr = []\n",
    "count = 0\n",
    "sum = 0\n",
    "best = n ** 3\n",
    "worst = 0\n",
    "arr = randPermutation(n)"
   ]
  },
  {
   "cell_type": "code",
   "execution_count": 18,
   "metadata": {
    "collapsed": false
   },
   "outputs": [
    {
     "name": "stdout",
     "output_type": "stream",
     "text": [
      "Best Theoretical time, 31\n",
      "Worst Theoretical time, 94.0\n",
      "Theoretical average time, 62.5\n",
      "Best Experimental Time, 31\n",
      "Worst Experimental Time, 94\n",
      "Experimental Average Time, 62\n"
     ]
    }
   ],
   "source": [
    "for i in itertools.permutations(arr):\n",
    "    x = numInstructions(i)\n",
    "    #print x\n",
    "    arr.append(x)\n",
    "    if x < best:\n",
    "        best = x\n",
    "    if x > worst:\n",
    "        worst = x\n",
    "    sum += x\n",
    "    count += 1\n",
    "\n",
    "print 'Best Theoretical time, ' + str(5 * n - 4)\n",
    "print 'Worst Theoretical time, ' + str((3.0 / 2.0) * n ** 2 + (7.0 / 2.0) * n - 4)\n",
    "print 'Theoretical average time, ' + str((3.0/4.0)*n**2 + (17.0/4.0)*n - 4)\n",
    "print 'Best Experimental Time, ' + str(best)\n",
    "print 'Worst Experimental Time, ' + str(worst)\n",
    "print 'Experimental Average Time, ' + str(sum / count)"
   ]
  },
  {
   "cell_type": "code",
   "execution_count": 27,
   "metadata": {
    "collapsed": false
   },
   "outputs": [
    {
     "data": {
      "image/png": "[encoded data removed]",
      "text/plain": [
       "<matplotlib.figure.Figure at 0x7fabf3182210>"
      ]
     },
     "metadata": {},
     "output_type": "display_data"
    }
   ],
   "source": [
    "plt.hist(arr,bins=count,histtype='stepfilled',alpha=1);"
   ]
  },
  {
   "cell_type": "code",
   "execution_count": null,
   "metadata": {
    "collapsed": false
   },
   "outputs": [],
   "source": []
  },
  {
   "cell_type": "code",
   "execution_count": null,
   "metadata": {
    "collapsed": true
   },
   "outputs": [],
   "source": []
  }
 ],
 "metadata": {
  "kernelspec": {
   "display_name": "Python 2",
   "language": "python",
   "name": "python2"
  },
  "language_info": {
   "codemirror_mode": {
    "name": "ipython",
    "version": 2
   },
   "file_extension": ".py",
   "mimetype": "text/x-python",
   "name": "python",
   "nbconvert_exporter": "python",
   "pygments_lexer": "ipython2",
   "version": "2.7.12"
  }
 },
 "nbformat": 4,
 "nbformat_minor": 2
}