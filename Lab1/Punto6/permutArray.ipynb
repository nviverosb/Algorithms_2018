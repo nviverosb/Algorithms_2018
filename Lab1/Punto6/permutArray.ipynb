{
 "cells": [
  {
   "cell_type": "markdown",
   "metadata": {},
   "source": [
    "# Insertion sort over all permutations of array"
   ]
  },
  {
   "cell_type": "code",
   "execution_count": 2,
   "metadata": {
    "collapsed": true
   },
   "outputs": [],
   "source": [
    "#Taken from http://disi.unal.edu.co/~algorithms/python/insertionsort.py\n",
    "#First, let's import libraries"
   ]
  },
  {
   "cell_type": "code",
   "execution_count": 3,
   "metadata": {
    "collapsed": true
   },
   "outputs": [],
   "source": [
    "import random"
   ]
  },
  {
   "cell_type": "code",
   "execution_count": 5,
   "metadata": {
    "collapsed": true
   },
   "outputs": [],
   "source": [
    "#Define random permutations function\n",
    "def randomPerm(n):\n",
    "    v=[]\n",
    "    for i in range(n):\n",
    "        v.append(i+1)\n",
    "    for i in range(len(v)-1):\n",
    "        j = random.randint(i, len(v)-1)\n",
    "        aux = v[i]\n",
    "        v[i] = v[j]\n",
    "        v[j] = aux\n",
    "    return v"
   ]
  },
  {
   "cell_type": "code",
   "execution_count": 6,
   "metadata": {
    "collapsed": true
   },
   "outputs": [],
   "source": [
    "#Define Insertion sort with step count function"
   ]
  },
  {
   "cell_type": "code",
   "execution_count": 7,
   "metadata": {
    "collapsed": true
   },
   "outputs": [],
   "source": [
    "def isortSteps(a):\n",
    "    v = []\n",
    "    for i in range(len(a)):\n",
    "        v.append(a[i])\n",
    "\n",
    "    steps = 0\n",
    "    for i in range(1,len(v)):\n",
    "        x = v[i]\n",
    "        j = i-1\n",
    "        while (j > -1) and (v[j] > x):\n",
    "            v[j+1] = v[j]\n",
    "            j = j -1\n",
    "            steps = steps + 3\n",
    "        steps = steps + 1\n",
    "        v[j+1] = x\n",
    "        steps = steps + 4\n",
    "    steps = steps + 1\n",
    "    return steps"
   ]
  },
  {
   "cell_type": "code",
   "execution_count": 9,
   "metadata": {
    "collapsed": true
   },
   "outputs": [],
   "source": [
    "#How many times will I run the code\n",
    "n = 500\n",
    "runs = 50000"
   ]
  },
  {
   "cell_type": "code",
   "execution_count": 10,
   "metadata": {
    "collapsed": true
   },
   "outputs": [],
   "source": [
    "#Run this bad boy\n",
    "sum = 0\n",
    "min = n**3\n",
    "max = 0\n",
    "for i in range(runs):\n",
    "    t = isortSteps(randomPerm(n))\n",
    "    #print(t)\n",
    "    if t < min :\n",
    "       min = t\n",
    "    if t > max :\n",
    "       max = t\n",
    "    sum = sum + t"
   ]
  },
  {
   "cell_type": "code",
   "execution_count": 11,
   "metadata": {
    "collapsed": false
   },
   "outputs": [
    {
     "name": "stdout",
     "output_type": "stream",
     "text": [
      "('Theoretical best time, ', '2496')\n",
      "('Theoretical worst time,', '376746.0')\n",
      "('Theoretical average time,', '189621.0')\n",
      "('Experimenal best time, ', '163353')\n",
      "('Experimenal worst time,', '213567')\n",
      "('Experimenal average time,', '189626')\n"
     ]
    }
   ],
   "source": [
    "#Print the results\n",
    "print ('Theoretical best time, ' , str(5*n - 4))\n",
    "print ('Theoretical worst time,' , str((3.0/2.0)*n**2 + (7.0/2.0)*n - 4))\n",
    "print ('Theoretical average time,' , str((3.0/4.0)*n**2 + (17.0/4.0)*n - 4))\n",
    "print ('Experimenal best time, ' , str(min))\n",
    "print ('Experimenal worst time,' , str(max))\n",
    "print ('Experimenal average time,' , str(sum/runs))"
   ]
  },
  {
   "cell_type": "code",
   "execution_count": null,
   "metadata": {
    "collapsed": true
   },
   "outputs": [],
   "source": []
  }
 ],
 "metadata": {
  "kernelspec": {
   "display_name": "Python 2",
   "language": "python",
   "name": "python2"
  },
  "language_info": {
   "codemirror_mode": {
    "name": "ipython",
    "version": 2
   },
   "file_extension": ".py",
   "mimetype": "text/x-python",
   "name": "python",
   "nbconvert_exporter": "python",
   "pygments_lexer": "ipython2",
   "version": "2.7.12"
  }
 },
 "nbformat": 4,
 "nbformat_minor": 2
}