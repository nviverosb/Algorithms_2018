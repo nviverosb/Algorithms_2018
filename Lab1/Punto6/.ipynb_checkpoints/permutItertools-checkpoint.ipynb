{
 "cells": [
  {
   "cell_type": "markdown",
   "metadata": {},
   "source": [
    "# Insertion sort over all permutations of array (Itertools)"
   ]
  },
  {
   "cell_type": "code",
   "execution_count": 1,
   "metadata": {
    "collapsed": true
   },
   "outputs": [],
   "source": [
    "#First, let's import libraries"
   ]
  },
  {
   "cell_type": "code",
   "execution_count": 11,
   "metadata": {
    "collapsed": true
   },
   "outputs": [],
   "source": [
    "import itertools\n",
    "import random\n",
    "import time"
   ]
  },
  {
   "cell_type": "code",
   "execution_count": 12,
   "metadata": {
    "collapsed": true
   },
   "outputs": [],
   "source": [
    "#Define random permutations function\n",
    "def randPermutation(n):\n",
    "    arr = []\n",
    "    for i in range(n):\n",
    "        arr.append([])\n",
    "        arr[i] = i+1\n",
    "    for i in range(n-1):\n",
    "        x = random.randint(i, n-1)\n",
    "        temp = arr[i]\n",
    "        arr[i] = arr[x]\n",
    "        arr[x] = temp\n",
    "    return arr"
   ]
  },
  {
   "cell_type": "code",
   "execution_count": 13,
   "metadata": {
    "collapsed": true
   },
   "outputs": [],
   "source": [
    "#Function that allows us to calculate the number of instructions\n",
    "def numInstructions(x):\n",
    "    arr = []\n",
    "    for i in range(len(x)):\n",
    "        arr.append([])\n",
    "        arr[i] = x[i]\n",
    "\n",
    "    instructions = 0\n",
    "    for i in range(1, len(arr)):\n",
    "        x = arr[i]\n",
    "        j = i - 1\n",
    "        while (j > -1) and (arr[j] > x):\n",
    "            arr[j + 1] = arr[j]\n",
    "            j = j - 1\n",
    "            instructions += 3\n",
    "        instructions += 1\n",
    "        arr[j + 1] = x\n",
    "        instructions += 4\n",
    "    instructions += 1\n",
    "    return instructions"
   ]
  },
  {
   "cell_type": "code",
   "execution_count": 14,
   "metadata": {},
   "outputs": [],
   "source": [
    "n = 9\n",
    "arr = []\n",
    "count = 0\n",
    "sum = 0\n",
    "best = n ** 3\n",
    "worst = 0\n",
    "arr = randPermutation(n)"
   ]
  },
  {
   "cell_type": "code",
   "execution_count": 15,
   "metadata": {},
   "outputs": [
    {
     "ename": "SyntaxError",
     "evalue": "invalid syntax (<ipython-input-15-f5874ac6ea05>, line 11)",
     "output_type": "error",
     "traceback": [
      "\u001b[0;36m  File \u001b[0;32m\"<ipython-input-15-f5874ac6ea05>\"\u001b[0;36m, line \u001b[0;32m11\u001b[0m\n\u001b[0;31m    print 'Best Theoretical time, ' + str(5 * n - 4)\u001b[0m\n\u001b[0m                                  ^\u001b[0m\n\u001b[0;31mSyntaxError\u001b[0m\u001b[0;31m:\u001b[0m invalid syntax\n"
     ]
    }
   ],
   "source": [
    "for i in itertools.permutations(arr):\n",
    "    x = numInstructions(i)\n",
    "    print (x)\n",
    "    if x < best:\n",
    "        best = x\n",
    "    if x > worst:\n",
    "        worst = x\n",
    "    sum += x\n",
    "    count += 1\n",
    "\n",
    "print ('Best Theoretical time, ' + str(5 * n - 4))\n",
    "print ('Worst Theoretical time, ' + str((3.0 / 2.0) * n ** 2 + (7.0 / 2.0) * n - 4))\n",
    "print ('Theoretical average time, ' + str((3.0/4.0)*n**2 + (17.0/4.0)*n - 4))\n",
    "print ('Best Experimental Time, ' , str(best))\n",
    "print ('Worst Experimental Time, ' , str(worst))\n",
    "print ('Experimental Average Time, ' , str(sum / count))"
   ]
  },
  {
   "cell_type": "code",
   "execution_count": null,
   "metadata": {
    "collapsed": true
   },
   "outputs": [],
   "source": []
  },
  {
   "cell_type": "code",
   "execution_count": null,
   "metadata": {
    "collapsed": true
   },
   "outputs": [],
   "source": []
  }
 ],
 "metadata": {
  "kernelspec": {
   "display_name": "Python 3",
   "language": "python",
   "name": "python3"
  },
  "language_info": {
   "codemirror_mode": {
    "name": "ipython",
    "version": 3
   },
   "file_extension": ".py",
   "mimetype": "text/x-python",
   "name": "python",
   "nbconvert_exporter": "python",
   "pygments_lexer": "ipython3",
   "version": "3.6.3"
  }
 },
 "nbformat": 4,
 "nbformat_minor": 2
}
